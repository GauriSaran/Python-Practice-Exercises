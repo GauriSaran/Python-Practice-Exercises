{
 "cells": [
  {
   "cell_type": "code",
   "execution_count": 1,
   "metadata": {},
   "outputs": [],
   "source": [
    "import re"
   ]
  },
  {
   "cell_type": "code",
   "execution_count": 2,
   "metadata": {},
   "outputs": [],
   "source": [
    "matcher = re.finditer('ab', 'abaababa')"
   ]
  },
  {
   "cell_type": "code",
   "execution_count": 3,
   "metadata": {},
   "outputs": [
    {
     "data": {
      "text/plain": [
       "<callable_iterator at 0x1dbb839a108>"
      ]
     },
     "execution_count": 3,
     "metadata": {},
     "output_type": "execute_result"
    }
   ],
   "source": [
    "matcher"
   ]
  },
  {
   "cell_type": "code",
   "execution_count": 4,
   "metadata": {},
   "outputs": [
    {
     "name": "stdout",
     "output_type": "stream",
     "text": [
      "<re.Match object; span=(0, 2), match='ab'>\n",
      "ab\n",
      "start index:  0\n",
      "end index:  2\n",
      "<re.Match object; span=(3, 5), match='ab'>\n",
      "ab\n",
      "start index:  3\n",
      "end index:  5\n",
      "<re.Match object; span=(5, 7), match='ab'>\n",
      "ab\n",
      "start index:  5\n",
      "end index:  7\n"
     ]
    }
   ],
   "source": [
    "for match in matcher:\n",
    "    print(match)\n",
    "    print(match.group())\n",
    "    print('start index: ', match.start())\n",
    "    print('end index: ', match.end())"
   ]
  },
  {
   "cell_type": "markdown",
   "metadata": {},
   "source": [
    "### CREATING PATTERN OBJECT:"
   ]
  },
  {
   "cell_type": "code",
   "execution_count": 5,
   "metadata": {},
   "outputs": [],
   "source": [
    "pattern = re.compile('python')"
   ]
  },
  {
   "cell_type": "code",
   "execution_count": 6,
   "metadata": {},
   "outputs": [
    {
     "name": "stdout",
     "output_type": "stream",
     "text": [
      "python\n"
     ]
    }
   ],
   "source": [
    "matcher1 = pattern.finditer('Learning python is very Easy')\n",
    "matcher1\n",
    "for match in matcher1:\n",
    "    print(match.group())"
   ]
  },
  {
   "cell_type": "code",
   "execution_count": 7,
   "metadata": {},
   "outputs": [],
   "source": [
    "matcher2 = re.finditer('[abc]', 'a7b@k9z')"
   ]
  },
  {
   "cell_type": "code",
   "execution_count": 8,
   "metadata": {},
   "outputs": [
    {
     "name": "stdout",
     "output_type": "stream",
     "text": [
      "0 ---  a\n",
      "2 ---  b\n"
     ]
    }
   ],
   "source": [
    "for match in matcher2:\n",
    "    print(match.start(), '--- ', match.group())"
   ]
  },
  {
   "cell_type": "code",
   "execution_count": 9,
   "metadata": {},
   "outputs": [],
   "source": [
    "matcher3 = re.finditer('[^abc]', 'a7b@k9z')"
   ]
  },
  {
   "cell_type": "code",
   "execution_count": 10,
   "metadata": {},
   "outputs": [
    {
     "name": "stdout",
     "output_type": "stream",
     "text": [
      "1 ---  7\n",
      "3 ---  @\n",
      "4 ---  k\n",
      "5 ---  9\n",
      "6 ---  z\n"
     ]
    }
   ],
   "source": [
    "for match in matcher3:\n",
    "    print(match.start(), '--- ', match.group())"
   ]
  },
  {
   "cell_type": "code",
   "execution_count": 11,
   "metadata": {},
   "outputs": [],
   "source": [
    "matcher4 = re.finditer('\\s', 'a7b @k9z')"
   ]
  },
  {
   "cell_type": "code",
   "execution_count": 12,
   "metadata": {},
   "outputs": [
    {
     "name": "stdout",
     "output_type": "stream",
     "text": [
      "3 ---   \n"
     ]
    }
   ],
   "source": [
    "for match in matcher4:\n",
    "    print(match.start(), '--- ', match.group())"
   ]
  },
  {
   "cell_type": "markdown",
   "metadata": {},
   "source": [
    "<p><li>\\s -> space</li>\n",
    "    <li>\\S -> Anything except space</li>\n",
    "    <li>\\D -> Anything except digit</li>\n",
    "    <li>\\d -> Any digit</li>\n",
    "    <li>\\w -> Any word (Alphanumeric character)</li>\n",
    "    <li>\\W -> Special characters only (NO alphanumeric)</li>\n",
    "    <li>[abc] -> either a or b or c</li>\n",
    "    <li>[^abc] -> Anything except a or b or c</li>\n",
    "    <li>[a-z] -> Any lower case alphabet symbol</li>\n",
    "    <li>[A-Z] -> Any upper case alphabet symbol</li>\n",
    "    <li>[a-zA-Z] -> All Alphabets</li>\n",
    "    <li>[0-9] -> Any digit</li>\n",
    "    <li>[a-zA-Z0-9] -> Any Alphanumeric character</li>\n",
    "    <li>[^a-zA-Z0-9] -> Special character</li> \n",
    "    <li> a+ ->To find exactly one a in each occurence</li>\n",
    "    <li> a? -> To find atmost 1 a </li>\n",
    "    <li> a{n} -> To find exactly n number of a </li>\n",
    "    <li> a{min, max} -> To find number of a from min to max </li>\n",
    "    <li> ^a -> Checks whether target string starts with a </li>\n",
    "    <li> a$ -> Checks whether target string ends with a </li>\n",
    "    <li> '.' -> Any Character </li>\n",
    "</p>"
   ]
  },
  {
   "cell_type": "code",
   "execution_count": 13,
   "metadata": {},
   "outputs": [],
   "source": [
    "matcher5 = re.finditer('a+', 'abaababa')"
   ]
  },
  {
   "cell_type": "code",
   "execution_count": 14,
   "metadata": {},
   "outputs": [
    {
     "name": "stdout",
     "output_type": "stream",
     "text": [
      "0 --  a\n",
      "2 --  aa\n",
      "5 --  a\n",
      "7 --  a\n"
     ]
    }
   ],
   "source": [
    "for match in matcher5:\n",
    "    print(match.start(), '-- ', match.group())"
   ]
  },
  {
   "cell_type": "code",
   "execution_count": 15,
   "metadata": {},
   "outputs": [],
   "source": [
    "matcher6 = re.finditer('a?', 'abaababa')"
   ]
  },
  {
   "cell_type": "code",
   "execution_count": 16,
   "metadata": {},
   "outputs": [
    {
     "name": "stdout",
     "output_type": "stream",
     "text": [
      "0 --  a\n",
      "1 --  \n",
      "2 --  a\n",
      "3 --  a\n",
      "4 --  \n",
      "5 --  a\n",
      "6 --  \n",
      "7 --  a\n",
      "8 --  \n"
     ]
    }
   ],
   "source": [
    "for match in matcher6:\n",
    "    print(match.start(), '-- ', match.group())"
   ]
  },
  {
   "cell_type": "code",
   "execution_count": 17,
   "metadata": {},
   "outputs": [],
   "source": [
    "matcher7 = re.finditer('a{2,3}', 'abaabaaaba')"
   ]
  },
  {
   "cell_type": "code",
   "execution_count": 18,
   "metadata": {},
   "outputs": [
    {
     "name": "stdout",
     "output_type": "stream",
     "text": [
      "2 --  aa\n",
      "5 --  aaa\n"
     ]
    }
   ],
   "source": [
    "for match in matcher7:\n",
    "    print(match.start(), '-- ', match.group())"
   ]
  },
  {
   "cell_type": "code",
   "execution_count": 19,
   "metadata": {},
   "outputs": [],
   "source": [
    "matcher8 = re.finditer('^a', 'abaabaaaba')"
   ]
  },
  {
   "cell_type": "code",
   "execution_count": 20,
   "metadata": {},
   "outputs": [
    {
     "name": "stdout",
     "output_type": "stream",
     "text": [
      "0 --  a\n"
     ]
    }
   ],
   "source": [
    "for match in matcher8:\n",
    "    print(match.start(), '-- ', match.group())"
   ]
  },
  {
   "cell_type": "code",
   "execution_count": 21,
   "metadata": {},
   "outputs": [],
   "source": [
    "matcher9 = re.finditer('b$', 'abaabaaaba')"
   ]
  },
  {
   "cell_type": "code",
   "execution_count": 22,
   "metadata": {},
   "outputs": [],
   "source": [
    "for match in matcher9:\n",
    "    print(match.start(), '-- ', match.group())\n",
    "#NO OUTPUT BECAUSE TARGET STRING DOES NOT END WITH b"
   ]
  },
  {
   "cell_type": "code",
   "execution_count": 23,
   "metadata": {},
   "outputs": [],
   "source": [
    "matcher10 = re.finditer('b$', 'abaabaaab')"
   ]
  },
  {
   "cell_type": "code",
   "execution_count": 24,
   "metadata": {},
   "outputs": [
    {
     "name": "stdout",
     "output_type": "stream",
     "text": [
      "8 --  b\n"
     ]
    }
   ],
   "source": [
    "for match in matcher10:\n",
    "    print(match.start(), '-- ', match.group())"
   ]
  },
  {
   "cell_type": "markdown",
   "metadata": {},
   "source": [
    "# IMPORTANT FUNCTIONS OF RE MODULE:"
   ]
  },
  {
   "cell_type": "markdown",
   "metadata": {},
   "source": [
    "### match (): Checks for the pattern in the beginning of the string"
   ]
  },
  {
   "cell_type": "code",
   "execution_count": 26,
   "metadata": {},
   "outputs": [
    {
     "name": "stdout",
     "output_type": "stream",
     "text": [
      "Enter pattern to checkabcdef\n"
     ]
    }
   ],
   "source": [
    "s = input('Enter pattern to check')"
   ]
  },
  {
   "cell_type": "code",
   "execution_count": 27,
   "metadata": {},
   "outputs": [
    {
     "name": "stdout",
     "output_type": "stream",
     "text": [
      "Match is available at beginning of string\n",
      "start index 0 and end index 6 -> abcdef\n"
     ]
    }
   ],
   "source": [
    "m = re.match(s, 'abcdefghi')\n",
    "if m != None:\n",
    "    print('Match is available at beginning of string')\n",
    "    print('start index {} and end index {} -> {}'.format(m.start(), m.end(), m.group()))\n",
    "else:\n",
    "    print('Match Not found at beginning of string')"
   ]
  },
  {
   "cell_type": "markdown",
   "metadata": {},
   "source": [
    "### fullmatch(): Matches full string otherwise returns None"
   ]
  },
  {
   "cell_type": "code",
   "execution_count": 28,
   "metadata": {},
   "outputs": [
    {
     "name": "stdout",
     "output_type": "stream",
     "text": [
      "Match Not found at beginning of string\n"
     ]
    }
   ],
   "source": [
    "m = re.fullmatch(s, 'abcdefghi')\n",
    "if m != None:\n",
    "    print('Match is available at beginning of string')\n",
    "    print('start index {} and end index {} -> {}'.format(m.start(), m.end(), m.group()))\n",
    "else:\n",
    "    print('Match Not found at beginning of string')"
   ]
  },
  {
   "cell_type": "markdown",
   "metadata": {},
   "source": [
    "### search(): Returns matched pattern of the first occurence in target string otherwise returns None"
   ]
  },
  {
   "cell_type": "code",
   "execution_count": 29,
   "metadata": {},
   "outputs": [
    {
     "name": "stdout",
     "output_type": "stream",
     "text": [
      "Enter pattern to checkcdef\n"
     ]
    }
   ],
   "source": [
    "s = input('Enter pattern to check')"
   ]
  },
  {
   "cell_type": "code",
   "execution_count": 30,
   "metadata": {},
   "outputs": [
    {
     "name": "stdout",
     "output_type": "stream",
     "text": [
      "Match is available at beginning of string\n",
      "start index 2 and end index 6 -> cdef\n"
     ]
    }
   ],
   "source": [
    "m = re.search(s, 'abcdeffghi')\n",
    "if m != None:\n",
    "    print('Match is available at beginning of string')\n",
    "    print('start index {} and end index {} -> {}'.format(m.start(), m.end(), m.group()))\n",
    "else:\n",
    "    print('Match Not found at beginning of string')"
   ]
  },
  {
   "cell_type": "code",
   "execution_count": 31,
   "metadata": {},
   "outputs": [
    {
     "name": "stdout",
     "output_type": "stream",
     "text": [
      "Match is available at beginning of string\n",
      "start index 0 and end index 1 -> a\n"
     ]
    }
   ],
   "source": [
    "m = re.search('\\w', 'abcdeffghi')\n",
    "if m != None:\n",
    "    print('Match is available at beginning of string')\n",
    "    print('start index {} and end index {} -> {}'.format(m.start(), m.end(), m.group()))\n",
    "else:\n",
    "    print('Match Not found at beginning of string')"
   ]
  },
  {
   "cell_type": "markdown",
   "metadata": {},
   "source": [
    "### findall(): Finds all matches of the given pattern and returns in the list"
   ]
  },
  {
   "cell_type": "code",
   "execution_count": 32,
   "metadata": {},
   "outputs": [],
   "source": [
    "l = re.findall('[0-9]', 'a7a9k6@')"
   ]
  },
  {
   "cell_type": "code",
   "execution_count": 33,
   "metadata": {},
   "outputs": [
    {
     "name": "stdout",
     "output_type": "stream",
     "text": [
      "['7', '9', '6']\n"
     ]
    }
   ],
   "source": [
    "print(l)\n"
   ]
  },
  {
   "cell_type": "markdown",
   "metadata": {},
   "source": [
    "### finditer(): Returns an itterator of all matched objects"
   ]
  },
  {
   "cell_type": "code",
   "execution_count": 34,
   "metadata": {},
   "outputs": [],
   "source": [
    "matcher = re.finditer('\\W', '#fGG@%Bb')"
   ]
  },
  {
   "cell_type": "code",
   "execution_count": 35,
   "metadata": {},
   "outputs": [
    {
     "name": "stdout",
     "output_type": "stream",
     "text": [
      "#\n",
      "@\n",
      "%\n"
     ]
    }
   ],
   "source": [
    "for match in matcher:\n",
    "    print(match.group())"
   ]
  },
  {
   "cell_type": "markdown",
   "metadata": {},
   "source": [
    "### sub(): Substitutes the pattern with replacement value in the target string"
   ]
  },
  {
   "cell_type": "code",
   "execution_count": 36,
   "metadata": {},
   "outputs": [],
   "source": [
    "r = re.sub('\\d', '#', 'fg234n54nnn53m558nlk09')"
   ]
  },
  {
   "cell_type": "code",
   "execution_count": 37,
   "metadata": {},
   "outputs": [
    {
     "name": "stdout",
     "output_type": "stream",
     "text": [
      "fg###n##nnn##m###nlk##\n"
     ]
    }
   ],
   "source": [
    "print(r)"
   ]
  },
  {
   "cell_type": "markdown",
   "metadata": {},
   "source": [
    "### subn(): Returns a tuple with the first element being the new string with replacement values and the 2nd element being the number of replacements that took place"
   ]
  },
  {
   "cell_type": "code",
   "execution_count": 38,
   "metadata": {},
   "outputs": [],
   "source": [
    "t = re.subn('\\d', '#', 'fg234n54nnn53m558nlk09')"
   ]
  },
  {
   "cell_type": "code",
   "execution_count": 39,
   "metadata": {},
   "outputs": [
    {
     "name": "stdout",
     "output_type": "stream",
     "text": [
      "('fg###n##nnn##m###nlk##', 12)\n"
     ]
    }
   ],
   "source": [
    "print(t)"
   ]
  },
  {
   "cell_type": "markdown",
   "metadata": {},
   "source": [
    "### split(): just like in case of string, here also split() divides target string at the specified pattern and returns a list"
   ]
  },
  {
   "cell_type": "code",
   "execution_count": 40,
   "metadata": {},
   "outputs": [],
   "source": [
    "l = re.split('-', 'gh-vdfv-fi8-lk9-s93')"
   ]
  },
  {
   "cell_type": "code",
   "execution_count": 41,
   "metadata": {},
   "outputs": [
    {
     "name": "stdout",
     "output_type": "stream",
     "text": [
      "['gh', 'vdfv', 'fi8', 'lk9', 's93']\n"
     ]
    }
   ],
   "source": [
    "print(l)"
   ]
  },
  {
   "cell_type": "markdown",
   "metadata": {},
   "source": [
    "### IMPORTANT: If we need to split at '.' then we need to give '\\.' because '.' is a pattern in regular expression for any character"
   ]
  },
  {
   "cell_type": "code",
   "execution_count": 42,
   "metadata": {},
   "outputs": [],
   "source": [
    "s5 = 'learning Python is Easy'"
   ]
  },
  {
   "cell_type": "code",
   "execution_count": 43,
   "metadata": {},
   "outputs": [
    {
     "name": "stdout",
     "output_type": "stream",
     "text": [
      "Match is available at beginning of string\n",
      "start index 0 and end index 5 -> learn\n"
     ]
    }
   ],
   "source": [
    "#CHECK WHETHER THE STRING STARTS WITH 'learn' -> ^learn\n",
    "res = re.search('^learn', s5)\n",
    "if res != None:\n",
    "    print('Match is available at beginning of string')\n",
    "    print('start index {} and end index {} -> {}'.format(res.start(), res.end(), res.group()))\n",
    "else:\n",
    "    print('Match Not found at beginning of string')"
   ]
  },
  {
   "cell_type": "code",
   "execution_count": 44,
   "metadata": {},
   "outputs": [
    {
     "name": "stdout",
     "output_type": "stream",
     "text": [
      "Match is available at beginning of string\n",
      "start index 19 and end index 23 -> Easy\n"
     ]
    }
   ],
   "source": [
    "# CHECKS WHETHER THE STRING ENDS WITH 'Easy' -> Easy$\n",
    "res = re.search('Easy$', s5)\n",
    "if res != None:\n",
    "    print('Match is available at beginning of string')\n",
    "    print('start index {} and end index {} -> {}'.format(res.start(), res.end(), res.group()))\n",
    "else:\n",
    "    print('Match Not found at beginning of string')"
   ]
  },
  {
   "cell_type": "markdown",
   "metadata": {},
   "source": [
    "# WRITE A PROGRAM:\n",
    "## To Allow a user to enter an identifier that matches the following pattern:\n",
    "<p><li> The allowed characters are alphabets, digits, and symbol # </li>\n",
    "<li> The first character should be lower case alphabet symbol from a to k </li>\n",
    "<li> The second character should be any digit divisible by 3 </li>\n",
    "<li> The length of the identifier should be at least 2 </li>\n",
    "Following pattern is used:\n",
    "    \n",
    "[a-k] [0369] [a-zA-Z0-9#]*\n",
    "* symbol represnts ZERO or ANY NUMBER OF ALPHANUMERIC CHARACTERS WITH SYMBOL # AFTER THE FIRST TWO MANDATORY CHARACTERS\n",
    "</P>"
   ]
  },
  {
   "cell_type": "code",
   "execution_count": 47,
   "metadata": {},
   "outputs": [
    {
     "name": "stdout",
     "output_type": "stream",
     "text": [
      "Enter Identifier to validateg6#bvdfj\n"
     ]
    }
   ],
   "source": [
    "s8 = input('Enter Identifier to validate')"
   ]
  },
  {
   "cell_type": "code",
   "execution_count": 48,
   "metadata": {},
   "outputs": [
    {
     "name": "stdout",
     "output_type": "stream",
     "text": [
      "g6#bvdfj  is a valid identifier\n"
     ]
    }
   ],
   "source": [
    "m1 = re.fullmatch('[a-k][0369][a-zA-Z0-9#]*', s8)\n",
    "if m1 != None:\n",
    "    print(s8, ' is a valid identifier')\n",
    "else:\n",
    "    print(s8, ' is not valid identifier')"
   ]
  },
  {
   "cell_type": "markdown",
   "metadata": {},
   "source": [
    "# WRITE A PROGRAM FOR REGULAR EXPRESSION MATCHING FOR A MOBILE NUMBER:\n",
    "### Mobile number should match following criteria:\n",
    "### First character should be between digits 6 to 9\n",
    "### The remaining 9 characters should be only digits"
   ]
  },
  {
   "cell_type": "code",
   "execution_count": 49,
   "metadata": {},
   "outputs": [
    {
     "name": "stdout",
     "output_type": "stream",
     "text": [
      "Enter mobile number7458623045\n"
     ]
    }
   ],
   "source": [
    "mo = input('Enter mobile number')"
   ]
  },
  {
   "cell_type": "code",
   "execution_count": 51,
   "metadata": {},
   "outputs": [
    {
     "name": "stdout",
     "output_type": "stream",
     "text": [
      "7458623045  is a valid mobile number\n"
     ]
    }
   ],
   "source": [
    "m2 = re.fullmatch('[6-9]\\d{9}', mo)\n",
    "if m2 != None:\n",
    "    print(mo, ' is a valid mobile number')\n",
    "else:\n",
    "    print(mo, ' is not valid mobile number')"
   ]
  },
  {
   "cell_type": "markdown",
   "metadata": {},
   "source": [
    "# LIST AND DICTIONARIES METHODS"
   ]
  },
  {
   "cell_type": "code",
   "execution_count": 52,
   "metadata": {},
   "outputs": [],
   "source": [
    "l = [2,5,'fg', 'g']"
   ]
  },
  {
   "cell_type": "code",
   "execution_count": 54,
   "metadata": {},
   "outputs": [
    {
     "data": {
      "text/plain": [
       "2"
      ]
     },
     "execution_count": 54,
     "metadata": {},
     "output_type": "execute_result"
    }
   ],
   "source": [
    "l.index('fg')"
   ]
  },
  {
   "cell_type": "code",
   "execution_count": 55,
   "metadata": {},
   "outputs": [],
   "source": [
    "s = 'GaurigrgjopSHI'"
   ]
  },
  {
   "cell_type": "code",
   "execution_count": 56,
   "metadata": {},
   "outputs": [
    {
     "data": {
      "text/plain": [
       "0"
      ]
     },
     "execution_count": 56,
     "metadata": {},
     "output_type": "execute_result"
    }
   ],
   "source": [
    "s.find('Gaur')"
   ]
  },
  {
   "cell_type": "code",
   "execution_count": 57,
   "metadata": {},
   "outputs": [
    {
     "data": {
      "text/plain": [
       "-1"
      ]
     },
     "execution_count": 57,
     "metadata": {},
     "output_type": "execute_result"
    }
   ],
   "source": [
    "s.find('GAURI')"
   ]
  },
  {
   "cell_type": "code",
   "execution_count": 58,
   "metadata": {},
   "outputs": [
    {
     "data": {
      "text/plain": [
       "0"
      ]
     },
     "execution_count": 58,
     "metadata": {},
     "output_type": "execute_result"
    }
   ],
   "source": [
    "s.index('Gauri')"
   ]
  },
  {
   "cell_type": "code",
   "execution_count": 59,
   "metadata": {},
   "outputs": [],
   "source": [
    "l.insert(3, 'ABC')"
   ]
  },
  {
   "cell_type": "code",
   "execution_count": 60,
   "metadata": {},
   "outputs": [
    {
     "data": {
      "text/plain": [
       "[2, 5, 'fg', 'ABC', 'g']"
      ]
     },
     "execution_count": 60,
     "metadata": {},
     "output_type": "execute_result"
    }
   ],
   "source": [
    "l"
   ]
  },
  {
   "cell_type": "code",
   "execution_count": 61,
   "metadata": {},
   "outputs": [],
   "source": [
    "l.append(9)"
   ]
  },
  {
   "cell_type": "code",
   "execution_count": 62,
   "metadata": {},
   "outputs": [
    {
     "data": {
      "text/plain": [
       "[2, 5, 'fg', 'ABC', 'g', 9]"
      ]
     },
     "execution_count": 62,
     "metadata": {},
     "output_type": "execute_result"
    }
   ],
   "source": [
    "l"
   ]
  },
  {
   "cell_type": "code",
   "execution_count": 64,
   "metadata": {},
   "outputs": [],
   "source": [
    "f = s.replace('Gauri', 'Rama')"
   ]
  },
  {
   "cell_type": "code",
   "execution_count": 65,
   "metadata": {},
   "outputs": [
    {
     "data": {
      "text/plain": [
       "'RamagrgjopSHI'"
      ]
     },
     "execution_count": 65,
     "metadata": {},
     "output_type": "execute_result"
    }
   ],
   "source": [
    "f"
   ]
  },
  {
   "cell_type": "code",
   "execution_count": 66,
   "metadata": {},
   "outputs": [
    {
     "data": {
      "text/plain": [
       "'RamagrgjopSHI'"
      ]
     },
     "execution_count": 66,
     "metadata": {},
     "output_type": "execute_result"
    }
   ],
   "source": [
    "s.replace('Gauri', 'Rama')"
   ]
  },
  {
   "cell_type": "code",
   "execution_count": 68,
   "metadata": {},
   "outputs": [
    {
     "data": {
      "text/plain": [
       "'GaurigrgjopSHI'"
      ]
     },
     "execution_count": 68,
     "metadata": {},
     "output_type": "execute_result"
    }
   ],
   "source": [
    "# STRING IS NOT MUTABLE\n",
    "s"
   ]
  },
  {
   "cell_type": "code",
   "execution_count": 73,
   "metadata": {},
   "outputs": [],
   "source": [
    "d = ' Jvsfvs988v vfdvdf ;k;k '"
   ]
  },
  {
   "cell_type": "code",
   "execution_count": 74,
   "metadata": {},
   "outputs": [
    {
     "data": {
      "text/plain": [
       "'Jvsfvs988v vfdvdf ;k;k '"
      ]
     },
     "execution_count": 74,
     "metadata": {},
     "output_type": "execute_result"
    }
   ],
   "source": [
    "d.lstrip()"
   ]
  },
  {
   "cell_type": "code",
   "execution_count": 75,
   "metadata": {},
   "outputs": [
    {
     "data": {
      "text/plain": [
       "' Jvsfvs988v vfdvdf ;k;k '"
      ]
     },
     "execution_count": 75,
     "metadata": {},
     "output_type": "execute_result"
    }
   ],
   "source": [
    "d"
   ]
  },
  {
   "cell_type": "code",
   "execution_count": 76,
   "metadata": {},
   "outputs": [
    {
     "data": {
      "text/plain": [
       "'Jvsfvs988v vfdvdf ;k;k'"
      ]
     },
     "execution_count": 76,
     "metadata": {},
     "output_type": "execute_result"
    }
   ],
   "source": [
    "d.strip()"
   ]
  },
  {
   "cell_type": "markdown",
   "metadata": {},
   "source": [
    "# JOINING TWO DICTIONARIES"
   ]
  },
  {
   "cell_type": "code",
   "execution_count": 77,
   "metadata": {},
   "outputs": [],
   "source": [
    "x = {'a': 1, 'b': 2}\n",
    "y = {'c': 3, 'd': 4}\n",
    "z = {**x, **y}"
   ]
  },
  {
   "cell_type": "code",
   "execution_count": 78,
   "metadata": {},
   "outputs": [
    {
     "data": {
      "text/plain": [
       "{'a': 1, 'b': 2, 'c': 3, 'd': 4}"
      ]
     },
     "execution_count": 78,
     "metadata": {},
     "output_type": "execute_result"
    }
   ],
   "source": [
    "z"
   ]
  },
  {
   "cell_type": "markdown",
   "metadata": {},
   "source": [
    "### *x -> mean Arbitrary arguments, any number of arguments can be passed as tuple\n",
    "### **x -> Any number of key word arguments can be passed"
   ]
  }
 ],
 "metadata": {
  "kernelspec": {
   "display_name": "Python 3",
   "language": "python",
   "name": "python3"
  },
  "language_info": {
   "codemirror_mode": {
    "name": "ipython",
    "version": 3
   },
   "file_extension": ".py",
   "mimetype": "text/x-python",
   "name": "python",
   "nbconvert_exporter": "python",
   "pygments_lexer": "ipython3",
   "version": "3.7.4"
  }
 },
 "nbformat": 4,
 "nbformat_minor": 2
}
